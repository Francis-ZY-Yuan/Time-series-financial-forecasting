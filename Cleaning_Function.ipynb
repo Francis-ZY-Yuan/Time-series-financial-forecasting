{
  "nbformat": 4,
  "nbformat_minor": 0,
  "metadata": {
    "colab": {
      "provenance": []
    },
    "kernelspec": {
      "name": "python3",
      "display_name": "Python 3"
    },
    "language_info": {
      "name": "python"
    }
  },
  "cells": [
    {
      "cell_type": "code",
      "execution_count": null,
      "metadata": {
        "id": "qVaDYqa5aOoC"
      },
      "outputs": [],
      "source": [
        "def clean(df,corr_matrix,threshold=0.7):\n",
        "\n",
        "  corr_matrix_abs = corr_matrix.abs()\n",
        "  mat=np.array(corr_matrix_abs)\n",
        "  corr_matrix_abs[\"counts\"]=[np.sum(item>threshold)-1 for item in mat]\n",
        "  corr_matrix_abs=corr_matrix_abs.sort_values(by=['counts'])\n",
        "  corr_matrix_abs=corr_matrix_abs[corr_matrix_abs.index]\n",
        "  #Sort by the number of correlated columns, remove those with as many correlated ones as possible\n",
        "\n",
        "  upper = corr_matrix_abs.where(np.triu(np.ones(corr_matrix_abs.shape), k=1).astype(bool))\n",
        "  to_drop_2 = [column for column in upper.columns if any(upper[column] > threshold)]\n",
        "\n",
        "  # Dropping empty columns\n",
        "\n",
        "  print(to_drop_2)\n",
        "\n",
        "  df.drop(columns=to_drop_2, inplace=True)"
      ]
    }
  ]
}